{
 "cells": [
  {
   "cell_type": "markdown",
   "metadata": {
    "id": "WzHr8McwAbNd"
   },
   "source": [
    "# Black-Litterman allocation\n",
    "\n",
    "The Black-Litterman method is a very powerful way of converting your views on asset returns, along with your uncertainty in these views, into a portfolio."
   ]
  },
  {
   "cell_type": "markdown",
   "metadata": {},
   "source": [
    "# LIBS"
   ]
  },
  {
   "cell_type": "code",
   "execution_count": 55,
   "metadata": {
    "id": "bs5cBlLfAbNf"
   },
   "outputs": [],
   "source": [
    "import numpy as np\n",
    "import pandas as pd\n",
    "import matplotlib.pyplot as plt\n",
    "import yfinance as yf\n",
    "\n",
    "import pypfopt\n",
    "from pypfopt import black_litterman, risk_models\n",
    "from pypfopt import BlackLittermanModel, plotting \n",
    "from pypfopt import EfficientFrontier, objective_functions\n",
    "from pypfopt import DiscreteAllocation\n",
    "\n",
    "\n",
    "from itertools import combinations"
   ]
  },
  {
   "cell_type": "markdown",
   "metadata": {},
   "source": [
    "# DATA"
   ]
  },
  {
   "cell_type": "markdown",
   "metadata": {},
   "source": [
    "### tickers"
   ]
  },
  {
   "cell_type": "code",
   "execution_count": 56,
   "metadata": {
    "id": "_2kfAeqOAbNg"
   },
   "outputs": [
    {
     "data": {
      "text/plain": [
       "['^SP500-45',\n",
       " '^SP500-30',\n",
       " '^GSPE',\n",
       " '^SP500-20',\n",
       " '^SP500-35',\n",
       " '^SP500-25',\n",
       " '^SP500-60']"
      ]
     },
     "execution_count": 56,
     "metadata": {},
     "output_type": "execute_result"
    }
   ],
   "source": [
    "sectors_yahoo = {\"bigtech\": \"^SP500-45\", \"staples\": \"^SP500-30\", \"energy\": \"^GSPE\", \"finance\": \"^SP500-20\", \"health\": \"^SP500-35\", \"discretionary\": \"^SP500-25\", \"real estate\": \"^SP500-60\"}\n",
    "sectors_yahoo_reverse = {'^SP500-45': 'bigtech',\n",
    " '^SP500-30': 'staples',\n",
    " '^GSPE': 'energy',\n",
    " '^SP500-20': 'finance',\n",
    " '^SP500-35': 'health',\n",
    " '^SP500-25': 'discretionary',\n",
    " '^SP500-60': 'real estate'}\n",
    "sectors = [\"bigtech\", \"staples\", \"energy\", \"finance\", \"health\", \"discretionary\", \"real estate\"]\n",
    "\n",
    "tickers = []\n",
    "for key in sectors_yahoo:\n",
    "    if (key in sectors) :\n",
    "        tickers.append(sectors_yahoo[key])\n",
    "tickers\n"
   ]
  },
  {
   "cell_type": "markdown",
   "metadata": {},
   "source": [
    "### load market data"
   ]
  },
  {
   "cell_type": "code",
   "execution_count": 57,
   "metadata": {
    "colab": {
     "base_uri": "https://localhost:8080/",
     "height": 255
    },
    "id": "ghoX_hFkAbNg",
    "outputId": "6104b7ab-5a41-47c3-9d2b-5787517a4b99"
   },
   "outputs": [
    {
     "name": "stdout",
     "output_type": "stream",
     "text": [
      "[*********************100%%**********************]  7 of 7 completed\n",
      "[*********************100%%**********************]  1 of 1 completed\n",
      "[*********************100%%**********************]  1 of 1 completed\n",
      "[*********************100%%**********************]  1 of 1 completed\n",
      "[*********************100%%**********************]  1 of 1 completed\n",
      "[*********************100%%**********************]  1 of 1 completed\n",
      "[*********************100%%**********************]  1 of 1 completed\n",
      "[*********************100%%**********************]  1 of 1 completed\n",
      "[*********************100%%**********************]  1 of 1 completed\n"
     ]
    }
   ],
   "source": [
    "ohlc = yf.download(tickers, interval=\"1wk\", period=\"5y\")\n",
    "prices = ohlc[\"Adj Close\"]\n",
    "prices.tail()\n",
    "\n",
    "market_prices = yf.download(\"SPY\", period=\"5y\", interval=\"1wk\")[\"Adj Close\"]\n",
    "market_prices.head()\n",
    "\n",
    "mcaps = {}\n",
    "for t in tickers:\n",
    "    # stock = yf.Ticker(t)\n",
    "    mcaps[t] = yf.download(t, period=\"5y\", interval=\"1wk\")[\"Volume\"].sum()"
   ]
  },
  {
   "cell_type": "markdown",
   "metadata": {},
   "source": [
    "### count profitabilities"
   ]
  },
  {
   "cell_type": "code",
   "execution_count": 70,
   "metadata": {
    "colab": {
     "base_uri": "https://localhost:8080/"
    },
    "id": "WmtKlXfLAbNi",
    "outputId": "ea14863a-b8a0-4c19-9c85-bea9fbdf29bc"
   },
   "outputs": [
    {
     "data": {
      "text/plain": [
       "^GSPE        0.163560\n",
       "^SP500-20    0.136363\n",
       "^SP500-25    0.146258\n",
       "^SP500-30    0.081026\n",
       "^SP500-35    0.110929\n",
       "^SP500-45    0.276247\n",
       "^SP500-60    0.065904\n",
       "dtype: float64"
      ]
     },
     "execution_count": 70,
     "metadata": {},
     "output_type": "execute_result"
    }
   ],
   "source": [
    "# Недельные доходности\n",
    "returns = prices.pct_change().dropna()\n",
    "\n",
    "# Годовые доходности по годам\n",
    "sector_returns = returns.groupby(returns.index.year).apply(lambda x: (1 + x).prod() - 1)\n",
    "\n",
    "average_weekly_return = returns.mean()  # Средняя недельная доходность для каждого тикера\n",
    "average_annual_return = (1 + average_weekly_return) ** 52 - 1\n",
    "average_annual_return"
   ]
  },
  {
   "cell_type": "markdown",
   "metadata": {
    "id": "w6cnqTB8AbNi"
   },
   "source": [
    "# Constructing the prior"
   ]
  },
  {
   "cell_type": "code",
   "execution_count": 59,
   "metadata": {
    "colab": {
     "base_uri": "https://localhost:8080/"
    },
    "id": "V35ccSUSAbNj",
    "outputId": "bdc6d9bc-33c2-47b6-ac60-c43a4cfed6b5"
   },
   "outputs": [
    {
     "data": {
      "text/plain": [
       "3.8236215708989096"
      ]
     },
     "execution_count": 59,
     "metadata": {},
     "output_type": "execute_result"
    }
   ],
   "source": [
    "S = risk_models.CovarianceShrinkage(prices).ledoit_wolf()\n",
    "delta = black_litterman.market_implied_risk_aversion(market_prices)\n",
    "delta"
   ]
  },
  {
   "cell_type": "code",
   "execution_count": 60,
   "metadata": {
    "colab": {
     "base_uri": "https://localhost:8080/",
     "height": 297
    },
    "id": "tgz3bOltAbNj",
    "outputId": "41740df8-87ca-45c7-b0ef-4af343ae3b0a"
   },
   "outputs": [
    {
     "data": {
      "image/png": "[encoded data removed]",
      "text/plain": [
       "<Figure size 432x288 with 2 Axes>"
      ]
     },
     "metadata": {
      "needs_background": "light"
     },
     "output_type": "display_data"
    }
   ],
   "source": [
    "plotting.plot_covariance(S, plot_correlation=True);"
   ]
  },
  {
   "cell_type": "code",
   "execution_count": 61,
   "metadata": {
    "colab": {
     "base_uri": "https://localhost:8080/"
    },
    "id": "qknxazUhAbNk",
    "outputId": "eb6b5bdf-7a31-4c76-90e0-ca2a751126ee"
   },
   "outputs": [
    {
     "data": {
      "text/plain": [
       "^GSPE        0.828861\n",
       "^SP500-20    0.789606\n",
       "^SP500-25    0.810605\n",
       "^SP500-30    0.459975\n",
       "^SP500-35    0.530209\n",
       "^SP500-45    0.825079\n",
       "^SP500-60    0.777364\n",
       "dtype: float64"
      ]
     },
     "execution_count": 61,
     "metadata": {},
     "output_type": "execute_result"
    }
   ],
   "source": [
    "market_prior = black_litterman.market_implied_prior_returns(mcaps, delta, S)\n",
    "market_prior"
   ]
  },
  {
   "cell_type": "code",
   "execution_count": 62,
   "metadata": {
    "colab": {
     "base_uri": "https://localhost:8080/",
     "height": 320
    },
    "id": "9exlhi1BAbNk",
    "outputId": "a1292c4b-38b9-4c02-919d-b9cf33a4309e"
   },
   "outputs": [
    {
     "data": {
      "text/plain": [
       "<AxesSubplot:>"
      ]
     },
     "execution_count": 62,
     "metadata": {},
     "output_type": "execute_result"
    },
    {
     "data": {
      "image/png": "[encoded data removed]",
      "text/plain": [
       "<Figure size 720x360 with 1 Axes>"
      ]
     },
     "metadata": {
      "needs_background": "light"
     },
     "output_type": "display_data"
    }
   ],
   "source": [
    "market_prior.plot.barh(figsize=(10,5))"
   ]
  },
  {
   "cell_type": "markdown",
   "metadata": {
    "id": "v1YzJTJFAbNl"
   },
   "source": [
    "# Views"
   ]
  },
  {
   "cell_type": "markdown",
   "metadata": {},
   "source": [
    "## MATRIX P AND Q"
   ]
  },
  {
   "cell_type": "code",
   "execution_count": 118,
   "metadata": {},
   "outputs": [],
   "source": [
    "# You don't have to provide views on all the assets\n",
    "\n",
    "tickers = []\n",
    "for key in sectors_yahoo:\n",
    "    if (key in sectors) :\n",
    "        tickers.append(sectors_yahoo[key])\n",
    "tickers\n",
    "\n",
    "viewdict = {\n",
    "    \n",
    "}\n",
    "\n",
    "viewdict = {\n",
    "    '^SP500-45': 1.9859/5,\n",
    "    '^SP500-30': 0.3716/5,\n",
    "    '^GSPE': 0.5048/5, \n",
    "    '^SP500-20': 0.6038/5,\n",
    "    '^SP500-35': 0.564/5, \n",
    "    '^SP500-25': 0.6884/5,\n",
    "    '^SP500-60': 0.1072/5,\n",
    "}\n",
    "\n",
    "bl = BlackLittermanModel(S, pi=market_prior, absolute_views=average_annual_return)"
   ]
  },
  {
   "cell_type": "markdown",
   "metadata": {
    "id": "QIMKGZEoAbNm"
   },
   "source": [
    "# View confidences"
   ]
  },
  {
   "cell_type": "code",
   "execution_count": 119,
   "metadata": {},
   "outputs": [
    {
     "name": "stdout",
     "output_type": "stream",
     "text": [
      "5-Year Volatility Data\n"
     ]
    },
    {
     "data": {
      "text/html": [
       "<table id=\"itables_28b221a4_552e_42d9_99ef_48bf5ac39cff\" class=\"display nowrap\" data-quarto-disable-processing=\"true\" style=\"table-layout:auto;width:auto;margin:auto;caption-side:bottom\">\n",
       "<thead>\n",
       "    <tr style=\"text-align: right;\">\n",
       "      <th></th>\n",
       "      <th>Mean Return</th>\n",
       "      <th>Volatility (Std Dev)</th>\n",
       "    </tr>\n",
       "  </thead><tbody><tr>\n",
       "<td style=\"vertical-align:middle; text-align:left\">\n",
       "<div style=\"float:left; margin-right: 10px;\">\n",
       "<a href=https://mwouts.github.io/itables/><svg class=\"main-svg\" xmlns=\"http://www.w3.org/2000/svg\" xmlns:xlink=\"http://www.w3.org/1999/xlink\"\n",
       "width=\"64\" viewBox=\"0 0 500 400\" style=\"font-family: 'Droid Sans', sans-serif;\">\n",
       "    <g style=\"fill:#d9d7fc\">\n",
       "        <path d=\"M100,400H500V357H100Z\" />\n",
       "        <path d=\"M100,300H400V257H100Z\" />\n",
       "        <path d=\"M0,200H400V157H0Z\" />\n",
       "        <path d=\"M100,100H500V57H100Z\" />\n",
       "        <path d=\"M100,350H500V307H100Z\" />\n",
       "        <path d=\"M100,250H400V207H100Z\" />\n",
       "        <path d=\"M0,150H400V107H0Z\" />\n",
       "        <path d=\"M100,50H500V7H100Z\" />\n",
       "    </g>\n",
       "    <g style=\"fill:#1a1366;stroke:#1a1366;\">\n",
       "   <rect x=\"100\" y=\"7\" width=\"400\" height=\"43\">\n",
       "    <animate\n",
       "      attributeName=\"width\"\n",
       "      values=\"0;400;0\"\n",
       "      dur=\"5s\"\n",
       "      repeatCount=\"indefinite\" />\n",
       "      <animate\n",
       "      attributeName=\"x\"\n",
       "      values=\"100;100;500\"\n",
       "      dur=\"5s\"\n",
       "      repeatCount=\"indefinite\" />\n",
       "  </rect>\n",
       "        <rect x=\"0\" y=\"107\" width=\"400\" height=\"43\">\n",
       "    <animate\n",
       "      attributeName=\"width\"\n",
       "      values=\"0;400;0\"\n",
       "      dur=\"3.5s\"\n",
       "      repeatCount=\"indefinite\" />\n",
       "    <animate\n",
       "      attributeName=\"x\"\n",
       "      values=\"0;0;400\"\n",
       "      dur=\"3.5s\"\n",
       "      repeatCount=\"indefinite\" />\n",
       "  </rect>\n",
       "        <rect x=\"100\" y=\"207\" width=\"300\" height=\"43\">\n",
       "    <animate\n",
       "      attributeName=\"width\"\n",
       "      values=\"0;300;0\"\n",
       "      dur=\"3s\"\n",
       "      repeatCount=\"indefinite\" />\n",
       "    <animate\n",
       "      attributeName=\"x\"\n",
       "      values=\"100;100;400\"\n",
       "      dur=\"3s\"\n",
       "      repeatCount=\"indefinite\" />\n",
       "  </rect>\n",
       "        <rect x=\"100\" y=\"307\" width=\"400\" height=\"43\">\n",
       "    <animate\n",
       "      attributeName=\"width\"\n",
       "      values=\"0;400;0\"\n",
       "      dur=\"4s\"\n",
       "      repeatCount=\"indefinite\" />\n",
       "      <animate\n",
       "      attributeName=\"x\"\n",
       "      values=\"100;100;500\"\n",
       "      dur=\"4s\"\n",
       "      repeatCount=\"indefinite\" />\n",
       "  </rect>\n",
       "        <g style=\"fill:transparent;stroke-width:8; stroke-linejoin:round\" rx=\"5\">\n",
       "            <g transform=\"translate(45 50) rotate(-45)\">\n",
       "                <circle r=\"33\" cx=\"0\" cy=\"0\" />\n",
       "                <rect x=\"-8\" y=\"32\" width=\"16\" height=\"30\" />\n",
       "            </g>\n",
       "\n",
       "            <g transform=\"translate(450 152)\">\n",
       "                <polyline points=\"-15,-20 -35,-20 -35,40 25,40 25,20\" />\n",
       "                <rect x=\"-15\" y=\"-40\" width=\"60\" height=\"60\" />\n",
       "            </g>\n",
       "\n",
       "            <g transform=\"translate(50 352)\">\n",
       "                <polygon points=\"-35,-5 0,-40 35,-5\" />\n",
       "                <polygon points=\"-35,10 0,45 35,10\" />\n",
       "            </g>\n",
       "\n",
       "            <g transform=\"translate(75 250)\">\n",
       "                <polyline points=\"-30,30 -60,0 -30,-30\" />\n",
       "                <polyline points=\"0,30 -30,0 0,-30\" />\n",
       "            </g>\n",
       "\n",
       "            <g transform=\"translate(425 250) rotate(180)\">\n",
       "                <polyline points=\"-30,30 -60,0 -30,-30\" />\n",
       "                <polyline points=\"0,30 -30,0 0,-30\" />\n",
       "            </g>\n",
       "        </g>\n",
       "    </g>\n",
       "</svg>\n",
       "</a>\n",
       "</div>\n",
       "<div>\n",
       "Loading ITables v2.2.3 from the internet...\n",
       "(need <a href=https://mwouts.github.io/itables/troubleshooting.html>help</a>?)</td>\n",
       "</div>\n",
       "</tr></tbody>\n",
       "</table>\n",
       "<link href=\"https://www.unpkg.com/dt_for_itables@2.0.13/dt_bundle.css\" rel=\"stylesheet\">\n",
       "<script type=\"module\">\n",
       "    import {DataTable, jQuery as $} from 'https://www.unpkg.com/dt_for_itables@2.0.13/dt_bundle.js';\n",
       "\n",
       "    document.querySelectorAll(\"#itables_28b221a4_552e_42d9_99ef_48bf5ac39cff:not(.dataTable)\").forEach(table => {\n",
       "        if (!(table instanceof HTMLTableElement))\n",
       "            return;\n",
       "\n",
       "        // Define the table data\n",
       "        const data = [[\"^GSPE\", 0.124006, 0.356135], [\"^SP500-20\", 0.091716, 0.105354], [\"^SP500-25\", 0.126871, 0.278722], [\"^SP500-30\", 0.058191, 0.079209], [\"^SP500-35\", 0.080846, 0.097137], [\"^SP500-45\", 0.231274, 0.30108], [\"^SP500-60\", 0.04547, 0.229766]];\n",
       "\n",
       "        // Define the dt_args\n",
       "        let dt_args = {\"layout\": {\"topStart\": null, \"topEnd\": null, \"bottomStart\": null, \"bottomEnd\": null}, \"order\": [], \"warn_on_selected_rows_not_rendered\": true};\n",
       "        dt_args[\"data\"] = data;\n",
       "\n",
       "        \n",
       "        new DataTable(table, dt_args);\n",
       "    });\n",
       "</script>\n"
      ],
      "text/plain": [
       "<IPython.core.display.HTML object>"
      ]
     },
     "metadata": {},
     "output_type": "display_data"
    },
    {
     "data": {
      "text/plain": [
       "[(0.0205, 0.442),\n",
       " (-0.021, 0.1374),\n",
       " (-0.2321, 0.4801),\n",
       " (-0.0136, 0.1971),\n",
       " (0.0129, 0.1488),\n",
       " (-0.1519, 0.4056),\n",
       " (-0.1843, 0.2752)]"
      ]
     },
     "execution_count": 119,
     "metadata": {},
     "output_type": "execute_result"
    }
   ],
   "source": [
    "mean_returns = sector_returns.mean()\n",
    "std_devs = sector_returns.std()\n",
    "\n",
    "# # std_devs\n",
    "\n",
    "# Создаем таблицу с результатами\n",
    "volatility_data = pd.DataFrame({\n",
    "    \"Mean Return\": mean_returns,\n",
    "    \"Volatility (Std Dev)\": std_devs\n",
    "})\n",
    "\n",
    "import ace_tools_open as tools; tools.display_dataframe_to_user(name=\"5-Year Volatility Data\", dataframe=volatility_data)   \n",
    "\n",
    "# Задаем секторы с повышенной уверенностью\n",
    "confident_sectors = [\"^SP500-45\", \"^SP500-35\"]  # Пример секторов, в которых больше уверенности\n",
    "confidence_factor = 0.7  # Коэффициент для секторов с большей уверенностью\n",
    "\n",
    "# Создаем интервалы с учетом уверенности\n",
    "intervals = [\n",
    "    (\n",
    "        round(\n",
    "            volatility_data.loc[ticker, \"Mean Return\"] - \n",
    "            (confidence_factor if ticker in confident_sectors else 1) * volatility_data.loc[ticker, \"Volatility (Std Dev)\"], 4\n",
    "        ),\n",
    "        round(\n",
    "            volatility_data.loc[ticker, \"Mean Return\"] + (confidence_factor if ticker in confident_sectors else 1) * volatility_data.loc[ticker, \"Volatility (Std Dev)\"], 4\n",
    "        )\n",
    "    )\n",
    "    for ticker in tickers\n",
    "]\n",
    "intervals\n"
   ]
  },
  {
   "cell_type": "code",
   "execution_count": 120,
   "metadata": {
    "colab": {
     "base_uri": "https://localhost:8080/"
    },
    "id": "avW4ld8bAbNo",
    "outputId": "540d7109-e20f-4eb4-e32d-fb16ae670a5b"
   },
   "outputs": [
    {
     "name": "stdout",
     "output_type": "stream",
     "text": [
      "[0.0444155625, 0.006272639999999999, 0.12680721000000003, 0.0110986225, 0.0046172025, 0.0777015625, 0.05278506250000001]\n"
     ]
    },
    {
     "data": {
      "text/plain": [
       "array([[0.04441556, 0.        , 0.        , 0.        , 0.        ,\n",
       "        0.        , 0.        ],\n",
       "       [0.        , 0.00627264, 0.        , 0.        , 0.        ,\n",
       "        0.        , 0.        ],\n",
       "       [0.        , 0.        , 0.12680721, 0.        , 0.        ,\n",
       "        0.        , 0.        ],\n",
       "       [0.        , 0.        , 0.        , 0.01109862, 0.        ,\n",
       "        0.        , 0.        ],\n",
       "       [0.        , 0.        , 0.        , 0.        , 0.0046172 ,\n",
       "        0.        , 0.        ],\n",
       "       [0.        , 0.        , 0.        , 0.        , 0.        ,\n",
       "        0.07770156, 0.        ],\n",
       "       [0.        , 0.        , 0.        , 0.        , 0.        ,\n",
       "        0.        , 0.05278506]])"
      ]
     },
     "execution_count": 120,
     "metadata": {},
     "output_type": "execute_result"
    }
   ],
   "source": [
    "variances = []\n",
    "for lb, ub in intervals:\n",
    "    sigma = (ub - lb)/2\n",
    "    variances.append(sigma ** 2)\n",
    "\n",
    "print(variances)\n",
    "omega = np.diag(variances)\n",
    "omega"
   ]
  },
  {
   "cell_type": "markdown",
   "metadata": {
    "id": "VlVq9sICAbNo"
   },
   "source": [
    "## Posterior estimates\n",
    "\n",
    "Given the inputs, we can compute a posterior estimate of returns\n"
   ]
  },
  {
   "cell_type": "code",
   "execution_count": 121,
   "metadata": {
    "id": "478dHIDHAbNo"
   },
   "outputs": [],
   "source": [
    "# We are using the shortcut to automatically compute market-implied prior\n",
    "bl = BlackLittermanModel(S, pi=\"market\", market_caps=mcaps, risk_aversion=delta,\n",
    "                        absolute_views=viewdict, omega = omega)"
   ]
  },
  {
   "cell_type": "code",
   "execution_count": 122,
   "metadata": {
    "colab": {
     "base_uri": "https://localhost:8080/"
    },
    "id": "A9VSO7xAAbNo",
    "outputId": "c501cc36-8719-4826-d2b9-c138ab2f46c5"
   },
   "outputs": [],
   "source": [
    "# Posterior estimate of returns\n",
    "ret_bl = bl.bl_returns()\n",
    "S_bl = bl.bl_cov()"
   ]
  },
  {
   "cell_type": "markdown",
   "metadata": {
    "id": "eRKmlKABAbNo"
   },
   "source": [
    "We can visualise how this compares to the prior and our views:"
   ]
  },
  {
   "cell_type": "code",
   "execution_count": 123,
   "metadata": {
    "colab": {
     "base_uri": "https://localhost:8080/",
     "height": 363
    },
    "id": "KHfvi6KvAbNp",
    "outputId": "ee876b7b-a24c-4dea-c344-a1c8a5c6c7d4"
   },
   "outputs": [
    {
     "data": {
      "image/png": "[encoded data removed]",
      "text/plain": [
       "<Figure size 864x576 with 1 Axes>"
      ]
     },
     "metadata": {
      "needs_background": "light"
     },
     "output_type": "display_data"
    }
   ],
   "source": [
    "rets_df = pd.DataFrame([market_prior, ret_bl, pd.Series(viewdict)], \n",
    "             index=[\"Prior\", \"Posterior\", \"Views\"]).T\n",
    "rets_df.plot.bar(figsize=(12,8));"
   ]
  },
  {
   "cell_type": "markdown",
   "metadata": {
    "id": "fuizxt0NAbNp"
   },
   "source": [
    "Notice that the posterior is often between the prior and the views. This supports the fact that the BL method is essentially a Bayesian weighted-average of the prior and views, where the weight is determined by the confidence.\n",
    "\n",
    "A similar but less intuitive procedure can be used to produce the posterior covariance estimate:"
   ]
  },
  {
   "cell_type": "code",
   "execution_count": 124,
   "metadata": {
    "colab": {
     "base_uri": "https://localhost:8080/",
     "height": 297
    },
    "id": "i6S1l2-aAbNp",
    "outputId": "411f2876-67fb-4d2d-8f88-4b63463bf10f"
   },
   "outputs": [
    {
     "data": {
      "image/png": "[encoded data removed]",
      "text/plain": [
       "<Figure size 432x288 with 2 Axes>"
      ]
     },
     "metadata": {
      "needs_background": "light"
     },
     "output_type": "display_data"
    }
   ],
   "source": [
    "S_bl = bl.bl_cov()\n",
    "plotting.plot_covariance(S_bl);"
   ]
  },
  {
   "cell_type": "markdown",
   "metadata": {
    "id": "YC9fNRAbAbNp"
   },
   "source": [
    "## Portfolio allocation\n",
    "\n",
    "Now that we have constructed our Black-Litterman posterior estimate, we can proceed to use any of the optimizers discussed in previous recipes."
   ]
  },
  {
   "cell_type": "code",
   "execution_count": 132,
   "metadata": {},
   "outputs": [
    {
     "name": "stdout",
     "output_type": "stream",
     "text": [
      "Expected annual return: 27.1%\n",
      "Annual volatility: 41.0%\n",
      "Sharpe Ratio: 0.61\n",
      "0.27074650673190676\n"
     ]
    },
    {
     "name": "stderr",
     "output_type": "stream",
     "text": [
      "c:\\Users\\roman\\AppData\\Local\\Programs\\Python\\Python310\\lib\\site-packages\\cvxpy\\reductions\\solvers\\solving_chain.py:336: FutureWarning: \n",
      "    Your problem is being solved with the ECOS solver by default. Starting in \n",
      "    CVXPY 1.5.0, Clarabel will be used as the default solver instead. To continue \n",
      "    using ECOS, specify the ECOS solver explicitly using the ``solver=cp.ECOS`` \n",
      "    argument to the ``problem.solve`` method.\n",
      "    \n",
      "  warnings.warn(ECOS_DEPRECATION_MSG, FutureWarning)\n"
     ]
    },
    {
     "data": {
      "text/plain": [
       "OrderedDict([('^GSPE', 0.1126232166580292),\n",
       "             ('^SP500-20', 0.125585198414079),\n",
       "             ('^SP500-25', 0.1275549787823938),\n",
       "             ('^SP500-30', 0.1978617882226836),\n",
       "             ('^SP500-35', 0.1829745440684916),\n",
       "             ('^SP500-45', 0.1360193420638403),\n",
       "             ('^SP500-60', 0.1173809317904824)])"
      ]
     },
     "execution_count": 132,
     "metadata": {},
     "output_type": "execute_result"
    }
   ],
   "source": [
    "ef = EfficientFrontier(ret_bl, S_bl)\n",
    "ef.add_objective(objective_functions.L2_reg)\n",
    "# ef.max_sharpe()\n",
    "weights = ef.efficient_return(0.15)\n",
    "expected_return, volatility, sharpe_ratio = ef.portfolio_performance(verbose=True)\n",
    "\n",
    "print(expected_return)\n",
    "ef.clean_weights()\n",
    "weights"
   ]
  },
  {
   "cell_type": "code",
   "execution_count": 129,
   "metadata": {
    "colab": {
     "base_uri": "https://localhost:8080/"
    },
    "id": "qylII3-oAbNp",
    "outputId": "f81f870a-3181-42ba-afcf-321674ddf5d7"
   },
   "outputs": [
    {
     "name": "stdout",
     "output_type": "stream",
     "text": [
      "Expected annual return: 33.7%\n",
      "Annual volatility: 46.4%\n",
      "Sharpe Ratio: 0.68\n"
     ]
    },
    {
     "data": {
      "text/plain": [
       "OrderedDict([('^GSPE', 0.17148),\n",
       "             ('^SP500-20', 0.13183),\n",
       "             ('^SP500-25', 0.21473),\n",
       "             ('^SP500-30', 0.03763),\n",
       "             ('^SP500-35', 0.05871),\n",
       "             ('^SP500-45', 0.27715),\n",
       "             ('^SP500-60', 0.10848)])"
      ]
     },
     "execution_count": 129,
     "metadata": {},
     "output_type": "execute_result"
    }
   ],
   "source": [
    "ef = EfficientFrontier(ret_bl, S_bl)\n",
    "ef.add_objective(objective_functions.L2_reg)\n",
    "ef.max_sharpe()\n",
    "weights = ef.clean_weights()\n",
    "expected_return, volatility, sharpe_ratio = ef.portfolio_performance(verbose=True)\n",
    "weights"
   ]
  },
  {
   "cell_type": "code",
   "execution_count": 139,
   "metadata": {
    "colab": {
     "base_uri": "https://localhost:8080/",
     "height": 575
    },
    "id": "9_pWobQoAbNq",
    "outputId": "e50c07ee-7274-4936-8f0f-e347309013b9"
   },
   "outputs": [
    {
     "data": {
      "image/png": "[encoded data removed]",
      "text/plain": [
       "<Figure size 720x720 with 1 Axes>"
      ]
     },
     "metadata": {},
     "output_type": "display_data"
    }
   ],
   "source": [
    "pd.Series(weights).plot.pie(\n",
    "    figsize=(10,10), \n",
    "    labels = [sectors_yahoo_reverse['^GSPE'], sectors_yahoo_reverse['^SP500-20'], sectors_yahoo_reverse['^SP500-25'], sectors_yahoo_reverse['^SP500-30'], sectors_yahoo_reverse['^SP500-35'], sectors_yahoo_reverse['^SP500-45'], sectors_yahoo_reverse['^SP500-60']],\n",
    "    autopct='%1.1f%%',\n",
    "    textprops={'fontsize': 14, 'color': 'white'},\n",
    "    colors=plt.cm.tab10.colors\n",
    ");"
   ]
  },
  {
   "cell_type": "code",
   "execution_count": null,
   "metadata": {
    "colab": {
     "base_uri": "https://localhost:8080/"
    },
    "id": "8YHugSK8AbNq",
    "outputId": "095c7b24-0f63-4c6a-a80b-91247548486b"
   },
   "outputs": [
    {
     "name": "stdout",
     "output_type": "stream",
     "text": [
      "Leftover: $267.21\n"
     ]
    },
    {
     "name": "stderr",
     "output_type": "stream",
     "text": [
      "c:\\Users\\roman\\AppData\\Local\\Programs\\Python\\Python310\\lib\\site-packages\\cvxpy\\problems\\problem.py:1403: UserWarning: Solution may be inaccurate. Try another solver, adjusting the solver settings, or solve with verbose=True for more information.\n",
      "  warnings.warn(\n"
     ]
    },
    {
     "data": {
      "text/plain": [
       "{'^SP500-20': 3,\n",
       " '^SP500-25': 2,\n",
       " '^SP500-30': 3,\n",
       " '^SP500-35': 2,\n",
       " '^SP500-45': 1,\n",
       " '^SP500-60': 10}"
      ]
     },
     "execution_count": 54,
     "metadata": {},
     "output_type": "execute_result"
    }
   ],
   "source": [
    "\n",
    "\n",
    "\n",
    "da = DiscreteAllocation(weights, prices.iloc[-1], total_portfolio_value=20000)\n",
    "alloc, leftover = da.lp_portfolio()\n",
    "print(f\"Leftover: ${leftover:.2f}\")\n",
    "alloc"
   ]
  },
  {
   "cell_type": "code",
   "execution_count": 27,
   "metadata": {
    "id": "xg87r54tAbNq"
   },
   "outputs": [],
   "source": []
  }
 ],
 "metadata": {
  "colab": {
   "collapsed_sections": [],
   "name": "4-Black-Litterman-Allocation.ipynb",
   "provenance": []
  },
  "kernelspec": {
   "display_name": "Python 3",
   "name": "python3"
  },
  "language_info": {
   "codemirror_mode": {
    "name": "ipython",
    "version": 3
   },
   "file_extension": ".py",
   "mimetype": "text/x-python",
   "name": "python",
   "nbconvert_exporter": "python",
   "pygments_lexer": "ipython3",
   "version": "3.10.5"
  }
 },
 "nbformat": 4,
 "nbformat_minor": 0
}
